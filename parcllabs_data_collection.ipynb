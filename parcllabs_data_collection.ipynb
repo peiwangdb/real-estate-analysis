{
 "cells": [
  {
   "cell_type": "code",
   "execution_count": 3,
   "id": "90252b6f",
   "metadata": {},
   "outputs": [],
   "source": [
    "import os\n",
    "\n",
    "from parcllabs import ParclLabsClient\n",
    "client = ParclLabsClient('xxxxx')"
   ]
  },
  {
   "cell_type": "code",
   "execution_count": 23,
   "id": "4d6e39ec",
   "metadata": {},
   "outputs": [
    {
     "ename": "RequestException",
     "evalue": "403 Client Error: You have exceeded your usage limit of 200 credits for the current cycle with plan basic.. Please visit https://dashboard.parcllabs.com for more information.. Visit https://dashboard.parcllabs.com for more information or reach out to team@parcllabs.com.",
     "output_type": "error",
     "traceback": [
      "\u001b[0;31m---------------------------------------------------------------------------\u001b[0m",
      "\u001b[0;31mHTTPError\u001b[0m                                 Traceback (most recent call last)",
      "File \u001b[0;32m~/miniconda3/envs/llama-index/lib/python3.11/site-packages/parcllabs/parcllabs_client.py:152\u001b[0m, in \u001b[0;36mParclLabsClient.get\u001b[0;34m(self, url, params, is_next)\u001b[0m\n\u001b[1;32m    151\u001b[0m response \u001b[38;5;241m=\u001b[39m requests\u001b[38;5;241m.\u001b[39mget(full_url, headers\u001b[38;5;241m=\u001b[39mheaders, params\u001b[38;5;241m=\u001b[39mparams)\n\u001b[0;32m--> 152\u001b[0m response\u001b[38;5;241m.\u001b[39mraise_for_status()\n\u001b[1;32m    153\u001b[0m \u001b[38;5;28;01mreturn\u001b[39;00m response\u001b[38;5;241m.\u001b[39mjson()\n",
      "File \u001b[0;32m~/miniconda3/envs/llama-index/lib/python3.11/site-packages/requests/models.py:1021\u001b[0m, in \u001b[0;36mResponse.raise_for_status\u001b[0;34m(self)\u001b[0m\n\u001b[1;32m   1020\u001b[0m \u001b[38;5;28;01mif\u001b[39;00m http_error_msg:\n\u001b[0;32m-> 1021\u001b[0m     \u001b[38;5;28;01mraise\u001b[39;00m HTTPError(http_error_msg, response\u001b[38;5;241m=\u001b[39m\u001b[38;5;28mself\u001b[39m)\n",
      "\u001b[0;31mHTTPError\u001b[0m: 403 Client Error: Forbidden for url: https://api.parcllabs.com/v1/search/markets?location_type=CITY&region=MIDDLE_ATLANTIC&state_abbreviation=NY&sort_by=MEDIAN_INCOME&sort_order=DESC&limit=100",
      "\nDuring handling of the above exception, another exception occurred:\n",
      "\u001b[0;31mRequestException\u001b[0m                          Traceback (most recent call last)",
      "Cell \u001b[0;32mIn[23], line 2\u001b[0m\n\u001b[1;32m      1\u001b[0m \u001b[38;5;66;03m# get all metros and sort by total population\u001b[39;00m\n\u001b[0;32m----> 2\u001b[0m markets \u001b[38;5;241m=\u001b[39m client\u001b[38;5;241m.\u001b[39msearch_markets\u001b[38;5;241m.\u001b[39mretrieve(\n\u001b[1;32m      3\u001b[0m         location_type\u001b[38;5;241m=\u001b[39m\u001b[38;5;124m'\u001b[39m\u001b[38;5;124mCITY\u001b[39m\u001b[38;5;124m'\u001b[39m,\n\u001b[1;32m      4\u001b[0m         region \u001b[38;5;241m=\u001b[39m \u001b[38;5;124m'\u001b[39m\u001b[38;5;124mMIDDLE_ATLANTIC\u001b[39m\u001b[38;5;124m'\u001b[39m,\n\u001b[1;32m      5\u001b[0m         state_abbreviation \u001b[38;5;241m=\u001b[39m \u001b[38;5;124m'\u001b[39m\u001b[38;5;124mNY\u001b[39m\u001b[38;5;124m'\u001b[39m,\n\u001b[1;32m      6\u001b[0m         sort_by\u001b[38;5;241m=\u001b[39m\u001b[38;5;124m'\u001b[39m\u001b[38;5;124mMEDIAN_INCOME\u001b[39m\u001b[38;5;124m'\u001b[39m,\n\u001b[1;32m      7\u001b[0m         sort_order\u001b[38;5;241m=\u001b[39m\u001b[38;5;124m'\u001b[39m\u001b[38;5;124mDESC\u001b[39m\u001b[38;5;124m'\u001b[39m,\n\u001b[1;32m      8\u001b[0m         params\u001b[38;5;241m=\u001b[39m{\u001b[38;5;124m'\u001b[39m\u001b[38;5;124mlimit\u001b[39m\u001b[38;5;124m'\u001b[39m: \u001b[38;5;241m100\u001b[39m},\n\u001b[1;32m      9\u001b[0m         as_dataframe\u001b[38;5;241m=\u001b[39m\u001b[38;5;28;01mTrue\u001b[39;00m,\n\u001b[1;32m     10\u001b[0m     )\n",
      "File \u001b[0;32m~/miniconda3/envs/llama-index/lib/python3.11/site-packages/parcllabs/services/search.py:249\u001b[0m, in \u001b[0;36mSearchMarkets.retrieve\u001b[0;34m(self, query, location_type, region, state_abbreviation, state_fips_code, parcl_id, geoid, sort_by, sort_order, params, as_dataframe, auto_paginate)\u001b[0m\n\u001b[1;32m    233\u001b[0m     \u001b[38;5;28;01mraise\u001b[39;00m \u001b[38;5;167;01mValueError\u001b[39;00m(\n\u001b[1;32m    234\u001b[0m         \u001b[38;5;124mf\u001b[39m\u001b[38;5;124m\"\u001b[39m\u001b[38;5;124msort_order value error. Valid values are: \u001b[39m\u001b[38;5;132;01m{\u001b[39;00mVALID_SORT_ORDER\u001b[38;5;132;01m}\u001b[39;00m\u001b[38;5;124m. Received: \u001b[39m\u001b[38;5;132;01m{\u001b[39;00msort_order\u001b[38;5;132;01m}\u001b[39;00m\u001b[38;5;124m\"\u001b[39m\n\u001b[1;32m    235\u001b[0m     )\n\u001b[1;32m    237\u001b[0m params \u001b[38;5;241m=\u001b[39m {\n\u001b[1;32m    238\u001b[0m     \u001b[38;5;124m\"\u001b[39m\u001b[38;5;124mquery\u001b[39m\u001b[38;5;124m\"\u001b[39m: query,\n\u001b[1;32m    239\u001b[0m     \u001b[38;5;124m\"\u001b[39m\u001b[38;5;124mlocation_type\u001b[39m\u001b[38;5;124m\"\u001b[39m: location_type,\n\u001b[0;32m   (...)\u001b[0m\n\u001b[1;32m    247\u001b[0m     \u001b[38;5;241m*\u001b[39m\u001b[38;5;241m*\u001b[39m(params \u001b[38;5;129;01mor\u001b[39;00m {}),\n\u001b[1;32m    248\u001b[0m }\n\u001b[0;32m--> 249\u001b[0m results \u001b[38;5;241m=\u001b[39m \u001b[38;5;28mself\u001b[39m\u001b[38;5;241m.\u001b[39m_request(params\u001b[38;5;241m=\u001b[39mparams)\n\u001b[1;32m    251\u001b[0m \u001b[38;5;28;01mif\u001b[39;00m auto_paginate:\n\u001b[1;32m    252\u001b[0m     tmp \u001b[38;5;241m=\u001b[39m results\u001b[38;5;241m.\u001b[39mcopy()\n",
      "File \u001b[0;32m~/miniconda3/envs/llama-index/lib/python3.11/site-packages/parcllabs/services/parcllabs_service.py:35\u001b[0m, in \u001b[0;36mParclLabsService._request\u001b[0;34m(self, parcl_id, url, params, is_next)\u001b[0m\n\u001b[1;32m     33\u001b[0m \u001b[38;5;28;01melse\u001b[39;00m:\n\u001b[1;32m     34\u001b[0m     url \u001b[38;5;241m=\u001b[39m \u001b[38;5;28mself\u001b[39m\u001b[38;5;241m.\u001b[39murl\n\u001b[0;32m---> 35\u001b[0m \u001b[38;5;28;01mreturn\u001b[39;00m \u001b[38;5;28mself\u001b[39m\u001b[38;5;241m.\u001b[39mclient\u001b[38;5;241m.\u001b[39mget(url\u001b[38;5;241m=\u001b[39murl, params\u001b[38;5;241m=\u001b[39mparams, is_next\u001b[38;5;241m=\u001b[39mis_next)\n",
      "File \u001b[0;32m~/miniconda3/envs/llama-index/lib/python3.11/site-packages/parcllabs/parcllabs_client.py:171\u001b[0m, in \u001b[0;36mParclLabsClient.get\u001b[0;34m(self, url, params, is_next)\u001b[0m\n\u001b[1;32m    169\u001b[0m         type_of_error \u001b[38;5;241m=\u001b[39m \u001b[38;5;124m\"\u001b[39m\u001b[38;5;124mServer\u001b[39m\u001b[38;5;124m\"\u001b[39m\n\u001b[1;32m    170\u001b[0m     msg \u001b[38;5;241m=\u001b[39m \u001b[38;5;124mf\u001b[39m\u001b[38;5;124m\"\u001b[39m\u001b[38;5;132;01m{\u001b[39;00mresponse\u001b[38;5;241m.\u001b[39mstatus_code\u001b[38;5;132;01m}\u001b[39;00m\u001b[38;5;124m \u001b[39m\u001b[38;5;132;01m{\u001b[39;00mtype_of_error\u001b[38;5;132;01m}\u001b[39;00m\u001b[38;5;124m Error: \u001b[39m\u001b[38;5;132;01m{\u001b[39;00merror\u001b[38;5;132;01m}\u001b[39;00m\u001b[38;5;124m\"\u001b[39m\n\u001b[0;32m--> 171\u001b[0m     \u001b[38;5;28;01mraise\u001b[39;00m RequestException(msg)\n\u001b[1;32m    172\u001b[0m \u001b[38;5;28;01mexcept\u001b[39;00m requests\u001b[38;5;241m.\u001b[39mexceptions\u001b[38;5;241m.\u001b[39mRequestException \u001b[38;5;28;01mas\u001b[39;00m err:\n\u001b[1;32m    173\u001b[0m     \u001b[38;5;28;01mraise\u001b[39;00m RequestException(\u001b[38;5;124mf\u001b[39m\u001b[38;5;124m\"\u001b[39m\u001b[38;5;124mRequest failed: \u001b[39m\u001b[38;5;132;01m{\u001b[39;00m\u001b[38;5;28mstr\u001b[39m(err)\u001b[38;5;132;01m}\u001b[39;00m\u001b[38;5;124m\"\u001b[39m)\n",
      "\u001b[0;31mRequestException\u001b[0m: 403 Client Error: You have exceeded your usage limit of 200 credits for the current cycle with plan basic.. Please visit https://dashboard.parcllabs.com for more information.. Visit https://dashboard.parcllabs.com for more information or reach out to team@parcllabs.com."
     ]
    }
   ],
   "source": [
    "# get all metros and sort by total population\n",
    "markets = client.search_markets.retrieve(\n",
    "        location_type='CITY',\n",
    "        region = 'MIDDLE_ATLANTIC',\n",
    "        state_abbreviation = 'NY',\n",
    "        sort_by='MEDIAN_INCOME',\n",
    "        sort_order='DESC',\n",
    "        params={'limit': 100},\n",
    "        as_dataframe=True,\n",
    "    )"
   ]
  },
  {
   "cell_type": "code",
   "execution_count": null,
   "id": "4075b4bb",
   "metadata": {},
   "outputs": [],
   "source": [
    "markets"
   ]
  },
  {
   "cell_type": "code",
   "execution_count": 1,
   "id": "6762406d",
   "metadata": {},
   "outputs": [],
   "source": [
    "parcl_id = '5372594'"
   ]
  },
  {
   "cell_type": "code",
   "execution_count": 4,
   "id": "11b9ccac",
   "metadata": {},
   "outputs": [
    {
     "name": "stdout",
     "output_type": "stream",
     "text": [
      "|████████████████████████████████████████| 1/1 [100%] in 1.8s (0.57/s) \n"
     ]
    }
   ],
   "source": [
    "start_date = '20-01-01'\n",
    "end_date = '2024-06-01'\n",
    "property_type = 'single_family'\n",
    "\n",
    "\n",
    "results_for_sale_new_listings = client.for_sale_market_metrics_new_listings_rolling_counts.retrieve_many(\n",
    "    parcl_ids=['5372594'],\n",
    "    start_date=start_date,\n",
    "    end_date=end_date,\n",
    "    property_type=property_type,\n",
    "    as_dataframe=True\n",
    ")"
   ]
  },
  {
   "cell_type": "code",
   "execution_count": 5,
   "id": "36007b84",
   "metadata": {},
   "outputs": [
    {
     "data": {
      "text/html": [
       "<div>\n",
       "<style scoped>\n",
       "    .dataframe tbody tr th:only-of-type {\n",
       "        vertical-align: middle;\n",
       "    }\n",
       "\n",
       "    .dataframe tbody tr th {\n",
       "        vertical-align: top;\n",
       "    }\n",
       "\n",
       "    .dataframe thead th {\n",
       "        text-align: right;\n",
       "    }\n",
       "</style>\n",
       "<table border=\"1\" class=\"dataframe\">\n",
       "  <thead>\n",
       "    <tr style=\"text-align: right;\">\n",
       "      <th></th>\n",
       "      <th>date</th>\n",
       "      <th>rolling_7_day</th>\n",
       "      <th>rolling_30_day</th>\n",
       "      <th>rolling_60_day</th>\n",
       "      <th>rolling_90_day</th>\n",
       "      <th>parcl_id</th>\n",
       "      <th>property_type</th>\n",
       "    </tr>\n",
       "  </thead>\n",
       "  <tbody>\n",
       "    <tr>\n",
       "      <th>0</th>\n",
       "      <td>2024-05-27</td>\n",
       "      <td>204</td>\n",
       "      <td>1065</td>\n",
       "      <td>2288</td>\n",
       "      <td>3359</td>\n",
       "      <td>5372594</td>\n",
       "      <td>SINGLE_FAMILY</td>\n",
       "    </tr>\n",
       "    <tr>\n",
       "      <th>1</th>\n",
       "      <td>2024-05-20</td>\n",
       "      <td>282</td>\n",
       "      <td>1131</td>\n",
       "      <td>2294</td>\n",
       "      <td>3356</td>\n",
       "      <td>5372594</td>\n",
       "      <td>SINGLE_FAMILY</td>\n",
       "    </tr>\n",
       "    <tr>\n",
       "      <th>2</th>\n",
       "      <td>2024-05-13</td>\n",
       "      <td>260</td>\n",
       "      <td>1125</td>\n",
       "      <td>2281</td>\n",
       "      <td>3265</td>\n",
       "      <td>5372594</td>\n",
       "      <td>SINGLE_FAMILY</td>\n",
       "    </tr>\n",
       "    <tr>\n",
       "      <th>3</th>\n",
       "      <td>2024-05-06</td>\n",
       "      <td>262</td>\n",
       "      <td>1133</td>\n",
       "      <td>2242</td>\n",
       "      <td>3227</td>\n",
       "      <td>5372594</td>\n",
       "      <td>SINGLE_FAMILY</td>\n",
       "    </tr>\n",
       "    <tr>\n",
       "      <th>4</th>\n",
       "      <td>2024-04-29</td>\n",
       "      <td>283</td>\n",
       "      <td>1145</td>\n",
       "      <td>2216</td>\n",
       "      <td>3195</td>\n",
       "      <td>5372594</td>\n",
       "      <td>SINGLE_FAMILY</td>\n",
       "    </tr>\n",
       "    <tr>\n",
       "      <th>5</th>\n",
       "      <td>2024-04-22</td>\n",
       "      <td>257</td>\n",
       "      <td>1084</td>\n",
       "      <td>2136</td>\n",
       "      <td>3055</td>\n",
       "      <td>5372594</td>\n",
       "      <td>SINGLE_FAMILY</td>\n",
       "    </tr>\n",
       "    <tr>\n",
       "      <th>6</th>\n",
       "      <td>2024-04-15</td>\n",
       "      <td>273</td>\n",
       "      <td>1046</td>\n",
       "      <td>2075</td>\n",
       "      <td>3118</td>\n",
       "      <td>5372594</td>\n",
       "      <td>SINGLE_FAMILY</td>\n",
       "    </tr>\n",
       "    <tr>\n",
       "      <th>7</th>\n",
       "      <td>2024-04-08</td>\n",
       "      <td>277</td>\n",
       "      <td>1038</td>\n",
       "      <td>1995</td>\n",
       "      <td>2989</td>\n",
       "      <td>5372594</td>\n",
       "      <td>SINGLE_FAMILY</td>\n",
       "    </tr>\n",
       "    <tr>\n",
       "      <th>8</th>\n",
       "      <td>2024-04-01</td>\n",
       "      <td>228</td>\n",
       "      <td>1005</td>\n",
       "      <td>1975</td>\n",
       "      <td>2872</td>\n",
       "      <td>5372594</td>\n",
       "      <td>SINGLE_FAMILY</td>\n",
       "    </tr>\n",
       "    <tr>\n",
       "      <th>9</th>\n",
       "      <td>2024-03-25</td>\n",
       "      <td>220</td>\n",
       "      <td>1006</td>\n",
       "      <td>1926</td>\n",
       "      <td>2703</td>\n",
       "      <td>5372594</td>\n",
       "      <td>SINGLE_FAMILY</td>\n",
       "    </tr>\n",
       "    <tr>\n",
       "      <th>10</th>\n",
       "      <td>2024-03-18</td>\n",
       "      <td>292</td>\n",
       "      <td>985</td>\n",
       "      <td>1885</td>\n",
       "      <td>2535</td>\n",
       "      <td>5372594</td>\n",
       "      <td>SINGLE_FAMILY</td>\n",
       "    </tr>\n",
       "    <tr>\n",
       "      <th>11</th>\n",
       "      <td>2024-03-11</td>\n",
       "      <td>233</td>\n",
       "      <td>905</td>\n",
       "      <td>1906</td>\n",
       "      <td>2349</td>\n",
       "      <td>5372594</td>\n",
       "      <td>SINGLE_FAMILY</td>\n",
       "    </tr>\n",
       "  </tbody>\n",
       "</table>\n",
       "</div>"
      ],
      "text/plain": [
       "          date  rolling_7_day  rolling_30_day  rolling_60_day  rolling_90_day  \\\n",
       "0   2024-05-27            204            1065            2288            3359   \n",
       "1   2024-05-20            282            1131            2294            3356   \n",
       "2   2024-05-13            260            1125            2281            3265   \n",
       "3   2024-05-06            262            1133            2242            3227   \n",
       "4   2024-04-29            283            1145            2216            3195   \n",
       "5   2024-04-22            257            1084            2136            3055   \n",
       "6   2024-04-15            273            1046            2075            3118   \n",
       "7   2024-04-08            277            1038            1995            2989   \n",
       "8   2024-04-01            228            1005            1975            2872   \n",
       "9   2024-03-25            220            1006            1926            2703   \n",
       "10  2024-03-18            292             985            1885            2535   \n",
       "11  2024-03-11            233             905            1906            2349   \n",
       "\n",
       "   parcl_id  property_type  \n",
       "0   5372594  SINGLE_FAMILY  \n",
       "1   5372594  SINGLE_FAMILY  \n",
       "2   5372594  SINGLE_FAMILY  \n",
       "3   5372594  SINGLE_FAMILY  \n",
       "4   5372594  SINGLE_FAMILY  \n",
       "5   5372594  SINGLE_FAMILY  \n",
       "6   5372594  SINGLE_FAMILY  \n",
       "7   5372594  SINGLE_FAMILY  \n",
       "8   5372594  SINGLE_FAMILY  \n",
       "9   5372594  SINGLE_FAMILY  \n",
       "10  5372594  SINGLE_FAMILY  \n",
       "11  5372594  SINGLE_FAMILY  "
      ]
     },
     "execution_count": 5,
     "metadata": {},
     "output_type": "execute_result"
    }
   ],
   "source": [
    "results_for_sale_new_listings"
   ]
  },
  {
   "cell_type": "code",
   "execution_count": 10,
   "id": "276fdce9",
   "metadata": {},
   "outputs": [
    {
     "name": "stdout",
     "output_type": "stream",
     "text": [
      "|████████████████████████████████████████| 1/1 [100%] in 3.2s (0.31/s) \n"
     ]
    }
   ],
   "source": [
    "results_housing_event_prices_all_properties = client.market_metrics_housing_event_prices.retrieve_many(\n",
    "    parcl_ids=['5372594'],\n",
    "    start_date=start_date,\n",
    "    end_date=end_date,\n",
    "    params={'limit': 1000},\n",
    "    as_dataframe=True\n",
    ")"
   ]
  },
  {
   "cell_type": "code",
   "execution_count": null,
   "id": "a2505c85",
   "metadata": {},
   "outputs": [],
   "source": []
  },
  {
   "cell_type": "code",
   "execution_count": 12,
   "id": "5069d7b7",
   "metadata": {},
   "outputs": [],
   "source": [
    "results_housing_event_prices.to_csv('results_housing_event_prices_all_properties.csv')"
   ]
  },
  {
   "cell_type": "code",
   "execution_count": 14,
   "id": "4c2c576f",
   "metadata": {},
   "outputs": [
    {
     "name": "stdout",
     "output_type": "stream",
     "text": [
      "|████████████████████████████████████████| 1/1 [100%] in 3.1s (0.33/s) \n"
     ]
    }
   ],
   "source": [
    "results_housing_event_prices_single_family = client.market_metrics_housing_event_prices.retrieve_many(\n",
    "    parcl_ids=['5372594'],\n",
    "    start_date=start_date,\n",
    "    end_date=end_date,\n",
    "    property_type='SINGLE_FAMILY',\n",
    "    params={'limit': 1000},\n",
    "    as_dataframe=True\n",
    ")"
   ]
  },
  {
   "cell_type": "code",
   "execution_count": 16,
   "id": "976762d3",
   "metadata": {},
   "outputs": [],
   "source": [
    "results_housing_event_prices_single_family.to_csv('results_housing_event_prices_single_family.csv')"
   ]
  },
  {
   "cell_type": "code",
   "execution_count": 17,
   "id": "f9e49b69",
   "metadata": {},
   "outputs": [
    {
     "name": "stdout",
     "output_type": "stream",
     "text": [
      "|████████████████████████████████████████| 1/1 [100%] in 2.0s (0.49/s) \n"
     ]
    }
   ],
   "source": [
    "results_housing_event_prices_condo = client.market_metrics_housing_event_prices.retrieve_many(\n",
    "    parcl_ids=['5372594'],\n",
    "    start_date=start_date,\n",
    "    end_date=end_date,\n",
    "    property_type='CONDO',\n",
    "    params={'limit': 1000},\n",
    "    as_dataframe=True\n",
    ")"
   ]
  },
  {
   "cell_type": "code",
   "execution_count": 19,
   "id": "13374372",
   "metadata": {},
   "outputs": [],
   "source": [
    "results_housing_event_prices_condo.to_csv('results_housing_event_prices_condo.csv')"
   ]
  },
  {
   "cell_type": "code",
   "execution_count": 20,
   "id": "0982489b",
   "metadata": {},
   "outputs": [
    {
     "name": "stdout",
     "output_type": "stream",
     "text": [
      "|████████████████████████████████████████| 1/1 [100%] in 1.6s (0.61/s) \n"
     ]
    }
   ],
   "source": [
    "results_housing_event_prices_townhouse = client.market_metrics_housing_event_prices.retrieve_many(\n",
    "    parcl_ids=['5372594'],\n",
    "    start_date=start_date,\n",
    "    end_date=end_date,\n",
    "    property_type='TOWNHOUSE',\n",
    "    params={'limit': 1000},\n",
    "    as_dataframe=True\n",
    ")"
   ]
  },
  {
   "cell_type": "code",
   "execution_count": 22,
   "id": "aa1f556b",
   "metadata": {},
   "outputs": [],
   "source": [
    "results_housing_event_prices_townhouse.to_csv('results_housing_event_prices_townhouse.csv')"
   ]
  },
  {
   "cell_type": "code",
   "execution_count": null,
   "id": "c879c5a8",
   "metadata": {},
   "outputs": [],
   "source": []
  }
 ],
 "metadata": {
  "kernelspec": {
   "display_name": "llama-index",
   "language": "python",
   "name": "llama-index"
  },
  "language_info": {
   "codemirror_mode": {
    "name": "ipython",
    "version": 3
   },
   "file_extension": ".py",
   "mimetype": "text/x-python",
   "name": "python",
   "nbconvert_exporter": "python",
   "pygments_lexer": "ipython3",
   "version": "3.11.7"
  }
 },
 "nbformat": 4,
 "nbformat_minor": 5
}
