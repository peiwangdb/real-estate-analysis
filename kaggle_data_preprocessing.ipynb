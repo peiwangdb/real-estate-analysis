{
 "cells": [
  {
   "cell_type": "markdown",
   "id": "bec0f3d8",
   "metadata": {},
   "source": [
    "This script does a preprocessing on dataset downloaded from https://www.kaggle.com/datasets/vincentvaseghi/us-cities-housing-market-data?resource=download"
   ]
  },
  {
   "cell_type": "code",
   "execution_count": 70,
   "id": "3522fb12",
   "metadata": {},
   "outputs": [],
   "source": [
    "import pandas as pd\n",
    "pd.set_option('display.max_rows', 100)\n",
    "pd.set_option('display.max_columns', 100)"
   ]
  },
  {
   "cell_type": "code",
   "execution_count": 71,
   "id": "a46d38e2",
   "metadata": {},
   "outputs": [],
   "source": [
    "df = pd.read_csv(\"city_market_tracker.tsv000\", delimiter = '\\t')"
   ]
  },
  {
   "cell_type": "code",
   "execution_count": 72,
   "id": "cab0ca1b",
   "metadata": {},
   "outputs": [],
   "source": [
    "df = df.loc[(df['city'] == 'New York') & (df['period_begin'] >= '2020-01-01') & (df['period_begin'] < '2024-06-01')]"
   ]
  },
  {
   "cell_type": "code",
   "execution_count": 73,
   "id": "07023940",
   "metadata": {},
   "outputs": [],
   "source": [
    "df_all = df.loc[df['property_type'] == 'All Residential']"
   ]
  },
  {
   "cell_type": "code",
   "execution_count": 74,
   "id": "9e5e8d1a",
   "metadata": {
    "scrolled": true
   },
   "outputs": [],
   "source": [
    "df_all.to_csv('kaggle_ny_data_all_residential.csv', index = False)"
   ]
  },
  {
   "cell_type": "code",
   "execution_count": 75,
   "id": "02d65250",
   "metadata": {},
   "outputs": [],
   "source": [
    "df_single_family = df.loc[df['property_type'] == 'Single Family Residential']"
   ]
  },
  {
   "cell_type": "code",
   "execution_count": 76,
   "id": "ee967d9c",
   "metadata": {},
   "outputs": [],
   "source": [
    "df_single_family.to_csv('kaggle_ny_data_single_family.csv', index = False)"
   ]
  },
  {
   "cell_type": "code",
   "execution_count": 81,
   "id": "28420130",
   "metadata": {},
   "outputs": [],
   "source": [
    "df_condo = df.loc[df['property_type'] == 'Condo/Co-op']"
   ]
  },
  {
   "cell_type": "code",
   "execution_count": 78,
   "id": "abcf7938",
   "metadata": {},
   "outputs": [],
   "source": [
    "df_condo.to_csv('kaggle_ny_data_condo.csv', index = False)"
   ]
  },
  {
   "cell_type": "code",
   "execution_count": 79,
   "id": "0b1929f3",
   "metadata": {},
   "outputs": [],
   "source": [
    "df_townhouse = df.loc[df['property_type'] == 'Townhouse']"
   ]
  },
  {
   "cell_type": "code",
   "execution_count": 80,
   "id": "ba7777e1",
   "metadata": {},
   "outputs": [],
   "source": [
    "df_townhouse.to_csv('kaggle_ny_data_townhouse.csv', index = False)"
   ]
  },
  {
   "cell_type": "code",
   "execution_count": null,
   "id": "5c1694ef",
   "metadata": {},
   "outputs": [],
   "source": []
  }
 ],
 "metadata": {
  "kernelspec": {
   "display_name": "llama-index",
   "language": "python",
   "name": "llama-index"
  },
  "language_info": {
   "codemirror_mode": {
    "name": "ipython",
    "version": 3
   },
   "file_extension": ".py",
   "mimetype": "text/x-python",
   "name": "python",
   "nbconvert_exporter": "python",
   "pygments_lexer": "ipython3",
   "version": "3.11.7"
  }
 },
 "nbformat": 4,
 "nbformat_minor": 5
}
